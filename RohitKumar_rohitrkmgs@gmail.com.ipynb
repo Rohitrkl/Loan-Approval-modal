{
 "cells": [
  {
   "cell_type": "code",
   "execution_count": 1,
   "id": "d6fe8092",
   "metadata": {},
   "outputs": [],
   "source": [
    "import numpy as np\n",
    "import pandas as pd\n",
    "import matplotlib.pyplot as plt\n",
    "import seaborn as sns\n",
    "from sklearn import svm\n",
    "import json"
   ]
  },
  {
   "cell_type": "code",
   "execution_count": 3,
   "id": "99561e83",
   "metadata": {},
   "outputs": [],
   "source": [
    "f = open(\"C:\\\\Users\\\\91840\\\\Downloads\\\\loan_data.json\")\n",
    "\n",
    "data = json.load(f)"
   ]
  },
  {
   "cell_type": "code",
   "execution_count": 4,
   "id": "0fc0b15a",
   "metadata": {},
   "outputs": [
    {
     "data": {
      "text/plain": [
       "[{'Application_ID': 'LP001002',\n",
       "  'Gender': 'Male',\n",
       "  'Married': 'No',\n",
       "  'Dependents': '0',\n",
       "  'Education': 'Graduate',\n",
       "  'Self_Employed': 'No',\n",
       "  'Credit_History': 1,\n",
       "  'Property_Area': 'Urban',\n",
       "  'Income': 'medium',\n",
       "  'Application_Status': 'Y'},\n",
       " {'Application_ID': 'LP001003',\n",
       "  'Gender': 'Male',\n",
       "  'Married': 'Yes',\n",
       "  'Dependents': '1',\n",
       "  'Education': 'Graduate',\n",
       "  'Self_Employed': 'No',\n",
       "  'Credit_History': 1,\n",
       "  'Property_Area': 'Rural',\n",
       "  'Income': 'medium',\n",
       "  'Application_Status': 'N'}]"
      ]
     },
     "execution_count": 4,
     "metadata": {},
     "output_type": "execute_result"
    }
   ],
   "source": [
    "data[:2]"
   ]
  },
  {
   "cell_type": "code",
   "execution_count": 5,
   "id": "b55fbc6a",
   "metadata": {},
   "outputs": [],
   "source": [
    "df=pd.DataFrame.from_dict(data, orient='columns')"
   ]
  },
  {
   "cell_type": "code",
   "execution_count": 6,
   "id": "34975acf",
   "metadata": {},
   "outputs": [
    {
     "data": {
      "text/html": [
       "<div>\n",
       "<style scoped>\n",
       "    .dataframe tbody tr th:only-of-type {\n",
       "        vertical-align: middle;\n",
       "    }\n",
       "\n",
       "    .dataframe tbody tr th {\n",
       "        vertical-align: top;\n",
       "    }\n",
       "\n",
       "    .dataframe thead th {\n",
       "        text-align: right;\n",
       "    }\n",
       "</style>\n",
       "<table border=\"1\" class=\"dataframe\">\n",
       "  <thead>\n",
       "    <tr style=\"text-align: right;\">\n",
       "      <th></th>\n",
       "      <th>Application_ID</th>\n",
       "      <th>Gender</th>\n",
       "      <th>Married</th>\n",
       "      <th>Dependents</th>\n",
       "      <th>Education</th>\n",
       "      <th>Self_Employed</th>\n",
       "      <th>Credit_History</th>\n",
       "      <th>Property_Area</th>\n",
       "      <th>Income</th>\n",
       "      <th>Application_Status</th>\n",
       "    </tr>\n",
       "  </thead>\n",
       "  <tbody>\n",
       "    <tr>\n",
       "      <th>0</th>\n",
       "      <td>LP001002</td>\n",
       "      <td>Male</td>\n",
       "      <td>No</td>\n",
       "      <td>0</td>\n",
       "      <td>Graduate</td>\n",
       "      <td>No</td>\n",
       "      <td>1</td>\n",
       "      <td>Urban</td>\n",
       "      <td>medium</td>\n",
       "      <td>Y</td>\n",
       "    </tr>\n",
       "    <tr>\n",
       "      <th>1</th>\n",
       "      <td>LP001003</td>\n",
       "      <td>Male</td>\n",
       "      <td>Yes</td>\n",
       "      <td>1</td>\n",
       "      <td>Graduate</td>\n",
       "      <td>No</td>\n",
       "      <td>1</td>\n",
       "      <td>Rural</td>\n",
       "      <td>medium</td>\n",
       "      <td>N</td>\n",
       "    </tr>\n",
       "    <tr>\n",
       "      <th>2</th>\n",
       "      <td>LP001005</td>\n",
       "      <td>Male</td>\n",
       "      <td>Yes</td>\n",
       "      <td>0</td>\n",
       "      <td>Graduate</td>\n",
       "      <td>Yes</td>\n",
       "      <td>1</td>\n",
       "      <td>Urban</td>\n",
       "      <td>low</td>\n",
       "      <td>Y</td>\n",
       "    </tr>\n",
       "    <tr>\n",
       "      <th>3</th>\n",
       "      <td>LP001006</td>\n",
       "      <td>Male</td>\n",
       "      <td>Yes</td>\n",
       "      <td>0</td>\n",
       "      <td>Not Graduate</td>\n",
       "      <td>No</td>\n",
       "      <td>1</td>\n",
       "      <td>Urban</td>\n",
       "      <td>low</td>\n",
       "      <td>Y</td>\n",
       "    </tr>\n",
       "    <tr>\n",
       "      <th>4</th>\n",
       "      <td>LP001008</td>\n",
       "      <td>Male</td>\n",
       "      <td>No</td>\n",
       "      <td>0</td>\n",
       "      <td>Graduate</td>\n",
       "      <td>No</td>\n",
       "      <td>1</td>\n",
       "      <td>Urban</td>\n",
       "      <td>medium</td>\n",
       "      <td>Y</td>\n",
       "    </tr>\n",
       "  </tbody>\n",
       "</table>\n",
       "</div>"
      ],
      "text/plain": [
       "  Application_ID Gender Married Dependents     Education Self_Employed  \\\n",
       "0       LP001002   Male      No          0      Graduate            No   \n",
       "1       LP001003   Male     Yes          1      Graduate            No   \n",
       "2       LP001005   Male     Yes          0      Graduate           Yes   \n",
       "3       LP001006   Male     Yes          0  Not Graduate            No   \n",
       "4       LP001008   Male      No          0      Graduate            No   \n",
       "\n",
       "   Credit_History Property_Area  Income Application_Status  \n",
       "0               1         Urban  medium                  Y  \n",
       "1               1         Rural  medium                  N  \n",
       "2               1         Urban     low                  Y  \n",
       "3               1         Urban     low                  Y  \n",
       "4               1         Urban  medium                  Y  "
      ]
     },
     "execution_count": 6,
     "metadata": {},
     "output_type": "execute_result"
    }
   ],
   "source": [
    "df.head()"
   ]
  },
  {
   "cell_type": "markdown",
   "id": "d29e1b39",
   "metadata": {},
   "source": [
    "# Q.no1"
   ]
  },
  {
   "cell_type": "markdown",
   "id": "edccc57c",
   "metadata": {},
   "source": [
    "1. Find % of total applicants for each unique value of dependents."
   ]
  },
  {
   "cell_type": "code",
   "execution_count": 7,
   "id": "80659765",
   "metadata": {},
   "outputs": [
    {
     "name": "stdout",
     "output_type": "stream",
     "text": [
      "0 : 57.53 %\n",
      "2 : 17.22 %\n",
      "1 : 16.63 %\n",
      "3+ : 8.61 %\n"
     ]
    }
   ],
   "source": [
    "unique_values=df.Dependents.value_counts().index\n",
    "total=df.Dependents.count()\n",
    "\n",
    "idx=0\n",
    "\n",
    "for i in df.Dependents.value_counts():\n",
    "  print(unique_values[idx],\":\",round(i*100/total,2),'%')\n",
    "  idx=idx+1"
   ]
  },
  {
   "cell_type": "markdown",
   "id": "143acad4",
   "metadata": {},
   "source": [
    "# Q.no 2\n"
   ]
  },
  {
   "cell_type": "markdown",
   "id": "22db13c4",
   "metadata": {},
   "source": [
    "2. Find the %of applications approved for self-employed applicants."
   ]
  },
  {
   "cell_type": "code",
   "execution_count": 9,
   "id": "0c82c725",
   "metadata": {},
   "outputs": [
    {
     "name": "stdout",
     "output_type": "stream",
     "text": [
      "approved %:  67.91 %\n"
     ]
    }
   ],
   "source": [
    "total_applicants= df.Application_ID.count()\n",
    "print(\"approved %: \",round(df.Application_Status[df['Application_Status']=='Y'].count()*100/total_applicants,2),\"%\")"
   ]
  },
  {
   "cell_type": "markdown",
   "id": "a3de1d8e",
   "metadata": {},
   "source": [
    "3. What is the % of rejections for married male applicants?"
   ]
  },
  {
   "cell_type": "code",
   "execution_count": 14,
   "id": "d027982e",
   "metadata": {},
   "outputs": [
    {
     "name": "stdout",
     "output_type": "stream",
     "text": [
      "Rejection %:  17.03 %\n"
     ]
    }
   ],
   "source": [
    "print(\"Rejection %: \",round(df.loc[(df.Gender==\"Male\")&(df.Married==\"Yes\")&(df.Application_Status==\"N\")]['Application_ID'].count()*100/total_applicants,2),\"%\")"
   ]
  },
  {
   "cell_type": "markdown",
   "id": "9bd0de4d",
   "metadata": {},
   "source": [
    "4. Which property area has the maximum approval ratio"
   ]
  },
  {
   "cell_type": "code",
   "execution_count": 15,
   "id": "0ced3944",
   "metadata": {},
   "outputs": [
    {
     "data": {
      "text/plain": [
       "Application_Status  Property_Area\n",
       "N                   Urban             61\n",
       "                    Rural             59\n",
       "                    Semiurban         44\n",
       "Y                   Semiurban        153\n",
       "                    Urban            104\n",
       "                    Rural             90\n",
       "Name: Property_Area, dtype: int64"
      ]
     },
     "execution_count": 15,
     "metadata": {},
     "output_type": "execute_result"
    }
   ],
   "source": [
    "df.groupby('Application_Status')['Property_Area'].value_counts()"
   ]
  },
  {
   "cell_type": "code",
   "execution_count": 16,
   "id": "8c073a0e",
   "metadata": {},
   "outputs": [],
   "source": [
    "def approval_rate(name):\n",
    "  # print(df.loc[(df.Property_Area==name)].Application_Status.value_counts())\n",
    "  y=df.loc[(df.Property_Area==name)].Application_Status.value_counts()[0]\n",
    "  n=df.loc[(df.Property_Area==name)].Application_Status.value_counts()[1]\n",
    "  print(\"-------------\")\n",
    "  print(\"approval rate of \",name,\": \",y*100/(y+n),\"%\")\n",
    "  print(\"-------------\")"
   ]
  },
  {
   "cell_type": "code",
   "execution_count": 17,
   "id": "edaa2aec",
   "metadata": {},
   "outputs": [
    {
     "data": {
      "text/plain": [
       "Semiurban    197\n",
       "Urban        165\n",
       "Rural        149\n",
       "Name: Property_Area, dtype: int64"
      ]
     },
     "execution_count": 17,
     "metadata": {},
     "output_type": "execute_result"
    }
   ],
   "source": [
    "df.Property_Area.value_counts()"
   ]
  },
  {
   "cell_type": "code",
   "execution_count": 18,
   "id": "2144ed55",
   "metadata": {},
   "outputs": [
    {
     "data": {
      "text/plain": [
       "'Semiurban'"
      ]
     },
     "execution_count": 18,
     "metadata": {},
     "output_type": "execute_result"
    }
   ],
   "source": [
    "df.Property_Area.value_counts().index[0]"
   ]
  },
  {
   "cell_type": "code",
   "execution_count": 19,
   "id": "f1f79e50",
   "metadata": {},
   "outputs": [
    {
     "name": "stdout",
     "output_type": "stream",
     "text": [
      "-------------\n",
      "approval rate of  Semiurban :  77.66497461928934 %\n",
      "-------------\n",
      "-------------\n",
      "approval rate of  Urban :  63.03030303030303 %\n",
      "-------------\n",
      "-------------\n",
      "approval rate of  Rural :  60.40268456375839 %\n",
      "-------------\n"
     ]
    },
    {
     "data": {
      "text/plain": [
       "0    None\n",
       "1    None\n",
       "2    None\n",
       "dtype: object"
      ]
     },
     "execution_count": 19,
     "metadata": {},
     "output_type": "execute_result"
    }
   ],
   "source": [
    "pd.Series(df.Property_Area.value_counts().index).apply(lambda x:approval_rate(x))"
   ]
  },
  {
   "cell_type": "markdown",
   "id": "6915f121",
   "metadata": {},
   "source": [
    "highest approval rate is of semiurban 77.664%"
   ]
  },
  {
   "cell_type": "markdown",
   "id": "6b4fc135",
   "metadata": {},
   "source": [
    "5. Find average number of dependents per income group."
   ]
  },
  {
   "cell_type": "code",
   "execution_count": 22,
   "id": "c71139bf",
   "metadata": {},
   "outputs": [
    {
     "data": {
      "text/plain": [
       "Income\n",
       "high      0.888889\n",
       "low       0.641026\n",
       "medium    0.922280\n",
       "dtype: float64"
      ]
     },
     "execution_count": 22,
     "metadata": {},
     "output_type": "execute_result"
    }
   ],
   "source": [
    "def convert_string(a):\n",
    "  if(a==\"0\"):\n",
    "    return 0\n",
    "  elif(a==\"1\"):\n",
    "    return 1\n",
    "  elif(a==\"2\"):\n",
    "    return 2\n",
    "  \n",
    "  return 3\n",
    "df['dependent']=df['Dependents'].apply(lambda x:convert_string(x))\n",
    "\n",
    "df.groupby('Income')['dependent'].sum()/df.groupby('Income')['Application_ID'].count()"
   ]
  },
  {
   "cell_type": "markdown",
   "id": "a3e080ed",
   "metadata": {},
   "source": [
    "# model"
   ]
  },
  {
   "cell_type": "code",
   "execution_count": 23,
   "id": "1c8310a5",
   "metadata": {},
   "outputs": [
    {
     "data": {
      "text/html": [
       "<div>\n",
       "<style scoped>\n",
       "    .dataframe tbody tr th:only-of-type {\n",
       "        vertical-align: middle;\n",
       "    }\n",
       "\n",
       "    .dataframe tbody tr th {\n",
       "        vertical-align: top;\n",
       "    }\n",
       "\n",
       "    .dataframe thead th {\n",
       "        text-align: right;\n",
       "    }\n",
       "</style>\n",
       "<table border=\"1\" class=\"dataframe\">\n",
       "  <thead>\n",
       "    <tr style=\"text-align: right;\">\n",
       "      <th></th>\n",
       "      <th>Application_ID</th>\n",
       "      <th>Gender</th>\n",
       "      <th>Married</th>\n",
       "      <th>Dependents</th>\n",
       "      <th>Education</th>\n",
       "      <th>Self_Employed</th>\n",
       "      <th>Credit_History</th>\n",
       "      <th>Property_Area</th>\n",
       "      <th>Income</th>\n",
       "      <th>Application_Status</th>\n",
       "      <th>dependent</th>\n",
       "    </tr>\n",
       "  </thead>\n",
       "  <tbody>\n",
       "    <tr>\n",
       "      <th>0</th>\n",
       "      <td>LP001002</td>\n",
       "      <td>Male</td>\n",
       "      <td>No</td>\n",
       "      <td>0</td>\n",
       "      <td>Graduate</td>\n",
       "      <td>No</td>\n",
       "      <td>1</td>\n",
       "      <td>Urban</td>\n",
       "      <td>medium</td>\n",
       "      <td>Y</td>\n",
       "      <td>0</td>\n",
       "    </tr>\n",
       "    <tr>\n",
       "      <th>1</th>\n",
       "      <td>LP001003</td>\n",
       "      <td>Male</td>\n",
       "      <td>Yes</td>\n",
       "      <td>1</td>\n",
       "      <td>Graduate</td>\n",
       "      <td>No</td>\n",
       "      <td>1</td>\n",
       "      <td>Rural</td>\n",
       "      <td>medium</td>\n",
       "      <td>N</td>\n",
       "      <td>1</td>\n",
       "    </tr>\n",
       "    <tr>\n",
       "      <th>2</th>\n",
       "      <td>LP001005</td>\n",
       "      <td>Male</td>\n",
       "      <td>Yes</td>\n",
       "      <td>0</td>\n",
       "      <td>Graduate</td>\n",
       "      <td>Yes</td>\n",
       "      <td>1</td>\n",
       "      <td>Urban</td>\n",
       "      <td>low</td>\n",
       "      <td>Y</td>\n",
       "      <td>0</td>\n",
       "    </tr>\n",
       "    <tr>\n",
       "      <th>3</th>\n",
       "      <td>LP001006</td>\n",
       "      <td>Male</td>\n",
       "      <td>Yes</td>\n",
       "      <td>0</td>\n",
       "      <td>Not Graduate</td>\n",
       "      <td>No</td>\n",
       "      <td>1</td>\n",
       "      <td>Urban</td>\n",
       "      <td>low</td>\n",
       "      <td>Y</td>\n",
       "      <td>0</td>\n",
       "    </tr>\n",
       "    <tr>\n",
       "      <th>4</th>\n",
       "      <td>LP001008</td>\n",
       "      <td>Male</td>\n",
       "      <td>No</td>\n",
       "      <td>0</td>\n",
       "      <td>Graduate</td>\n",
       "      <td>No</td>\n",
       "      <td>1</td>\n",
       "      <td>Urban</td>\n",
       "      <td>medium</td>\n",
       "      <td>Y</td>\n",
       "      <td>0</td>\n",
       "    </tr>\n",
       "  </tbody>\n",
       "</table>\n",
       "</div>"
      ],
      "text/plain": [
       "  Application_ID Gender Married Dependents     Education Self_Employed  \\\n",
       "0       LP001002   Male      No          0      Graduate            No   \n",
       "1       LP001003   Male     Yes          1      Graduate            No   \n",
       "2       LP001005   Male     Yes          0      Graduate           Yes   \n",
       "3       LP001006   Male     Yes          0  Not Graduate            No   \n",
       "4       LP001008   Male      No          0      Graduate            No   \n",
       "\n",
       "   Credit_History Property_Area  Income Application_Status  dependent  \n",
       "0               1         Urban  medium                  Y          0  \n",
       "1               1         Rural  medium                  N          1  \n",
       "2               1         Urban     low                  Y          0  \n",
       "3               1         Urban     low                  Y          0  \n",
       "4               1         Urban  medium                  Y          0  "
      ]
     },
     "execution_count": 23,
     "metadata": {},
     "output_type": "execute_result"
    }
   ],
   "source": [
    "df.head()"
   ]
  },
  {
   "cell_type": "code",
   "execution_count": 24,
   "id": "68f67877",
   "metadata": {},
   "outputs": [
    {
     "data": {
      "text/plain": [
       "Application_ID        0\n",
       "Gender                0\n",
       "Married               0\n",
       "Dependents            0\n",
       "Education             0\n",
       "Self_Employed         0\n",
       "Credit_History        0\n",
       "Property_Area         0\n",
       "Income                0\n",
       "Application_Status    0\n",
       "dependent             0\n",
       "dtype: int64"
      ]
     },
     "execution_count": 24,
     "metadata": {},
     "output_type": "execute_result"
    }
   ],
   "source": [
    "df.isnull().sum()"
   ]
  },
  {
   "cell_type": "code",
   "execution_count": 25,
   "id": "a2dd8c92",
   "metadata": {},
   "outputs": [
    {
     "name": "stdout",
     "output_type": "stream",
     "text": [
      "<class 'pandas.core.frame.DataFrame'>\n",
      "RangeIndex: 511 entries, 0 to 510\n",
      "Data columns (total 11 columns):\n",
      " #   Column              Non-Null Count  Dtype \n",
      "---  ------              --------------  ----- \n",
      " 0   Application_ID      511 non-null    object\n",
      " 1   Gender              511 non-null    object\n",
      " 2   Married             511 non-null    object\n",
      " 3   Dependents          511 non-null    object\n",
      " 4   Education           511 non-null    object\n",
      " 5   Self_Employed       511 non-null    object\n",
      " 6   Credit_History      511 non-null    int64 \n",
      " 7   Property_Area       511 non-null    object\n",
      " 8   Income              511 non-null    object\n",
      " 9   Application_Status  511 non-null    object\n",
      " 10  dependent           511 non-null    int64 \n",
      "dtypes: int64(2), object(9)\n",
      "memory usage: 44.0+ KB\n"
     ]
    }
   ],
   "source": [
    "df.info()"
   ]
  },
  {
   "cell_type": "code",
   "execution_count": 26,
   "id": "e7f02a10",
   "metadata": {},
   "outputs": [
    {
     "data": {
      "text/html": [
       "<div>\n",
       "<style scoped>\n",
       "    .dataframe tbody tr th:only-of-type {\n",
       "        vertical-align: middle;\n",
       "    }\n",
       "\n",
       "    .dataframe tbody tr th {\n",
       "        vertical-align: top;\n",
       "    }\n",
       "\n",
       "    .dataframe thead th {\n",
       "        text-align: right;\n",
       "    }\n",
       "</style>\n",
       "<table border=\"1\" class=\"dataframe\">\n",
       "  <thead>\n",
       "    <tr style=\"text-align: right;\">\n",
       "      <th></th>\n",
       "      <th>Application_ID</th>\n",
       "      <th>Gender</th>\n",
       "      <th>Married</th>\n",
       "      <th>Dependents</th>\n",
       "      <th>Education</th>\n",
       "      <th>Self_Employed</th>\n",
       "      <th>Credit_History</th>\n",
       "      <th>Property_Area</th>\n",
       "      <th>Income</th>\n",
       "      <th>Application_Status</th>\n",
       "      <th>dependent</th>\n",
       "    </tr>\n",
       "  </thead>\n",
       "  <tbody>\n",
       "    <tr>\n",
       "      <th>0</th>\n",
       "      <td>LP001002</td>\n",
       "      <td>Male</td>\n",
       "      <td>No</td>\n",
       "      <td>0</td>\n",
       "      <td>Graduate</td>\n",
       "      <td>No</td>\n",
       "      <td>1</td>\n",
       "      <td>Urban</td>\n",
       "      <td>medium</td>\n",
       "      <td>Y</td>\n",
       "      <td>0</td>\n",
       "    </tr>\n",
       "    <tr>\n",
       "      <th>1</th>\n",
       "      <td>LP001003</td>\n",
       "      <td>Male</td>\n",
       "      <td>Yes</td>\n",
       "      <td>1</td>\n",
       "      <td>Graduate</td>\n",
       "      <td>No</td>\n",
       "      <td>1</td>\n",
       "      <td>Rural</td>\n",
       "      <td>medium</td>\n",
       "      <td>N</td>\n",
       "      <td>1</td>\n",
       "    </tr>\n",
       "    <tr>\n",
       "      <th>2</th>\n",
       "      <td>LP001005</td>\n",
       "      <td>Male</td>\n",
       "      <td>Yes</td>\n",
       "      <td>0</td>\n",
       "      <td>Graduate</td>\n",
       "      <td>Yes</td>\n",
       "      <td>1</td>\n",
       "      <td>Urban</td>\n",
       "      <td>low</td>\n",
       "      <td>Y</td>\n",
       "      <td>0</td>\n",
       "    </tr>\n",
       "    <tr>\n",
       "      <th>3</th>\n",
       "      <td>LP001006</td>\n",
       "      <td>Male</td>\n",
       "      <td>Yes</td>\n",
       "      <td>0</td>\n",
       "      <td>Not Graduate</td>\n",
       "      <td>No</td>\n",
       "      <td>1</td>\n",
       "      <td>Urban</td>\n",
       "      <td>low</td>\n",
       "      <td>Y</td>\n",
       "      <td>0</td>\n",
       "    </tr>\n",
       "    <tr>\n",
       "      <th>4</th>\n",
       "      <td>LP001008</td>\n",
       "      <td>Male</td>\n",
       "      <td>No</td>\n",
       "      <td>0</td>\n",
       "      <td>Graduate</td>\n",
       "      <td>No</td>\n",
       "      <td>1</td>\n",
       "      <td>Urban</td>\n",
       "      <td>medium</td>\n",
       "      <td>Y</td>\n",
       "      <td>0</td>\n",
       "    </tr>\n",
       "  </tbody>\n",
       "</table>\n",
       "</div>"
      ],
      "text/plain": [
       "  Application_ID Gender Married Dependents     Education Self_Employed  \\\n",
       "0       LP001002   Male      No          0      Graduate            No   \n",
       "1       LP001003   Male     Yes          1      Graduate            No   \n",
       "2       LP001005   Male     Yes          0      Graduate           Yes   \n",
       "3       LP001006   Male     Yes          0  Not Graduate            No   \n",
       "4       LP001008   Male      No          0      Graduate            No   \n",
       "\n",
       "   Credit_History Property_Area  Income Application_Status  dependent  \n",
       "0               1         Urban  medium                  Y          0  \n",
       "1               1         Rural  medium                  N          1  \n",
       "2               1         Urban     low                  Y          0  \n",
       "3               1         Urban     low                  Y          0  \n",
       "4               1         Urban  medium                  Y          0  "
      ]
     },
     "execution_count": 26,
     "metadata": {},
     "output_type": "execute_result"
    }
   ],
   "source": [
    "data=df.copy()\n",
    "data.head()"
   ]
  },
  {
   "cell_type": "code",
   "execution_count": 27,
   "id": "221bd54a",
   "metadata": {},
   "outputs": [],
   "source": [
    "data=data.drop(columns=['Application_ID','Dependents'])"
   ]
  },
  {
   "cell_type": "code",
   "execution_count": 28,
   "id": "87283083",
   "metadata": {},
   "outputs": [
    {
     "data": {
      "text/plain": [
       "Male      420\n",
       "Female     91\n",
       "Name: Gender, dtype: int64"
      ]
     },
     "execution_count": 28,
     "metadata": {},
     "output_type": "execute_result"
    }
   ],
   "source": [
    "data.Gender.value_counts()"
   ]
  },
  {
   "cell_type": "code",
   "execution_count": 29,
   "id": "b37c6ef2",
   "metadata": {},
   "outputs": [],
   "source": [
    "data['Gender']=data['Gender'].apply(lambda x: 1 if x==\"Female\" else 0)"
   ]
  },
  {
   "cell_type": "code",
   "execution_count": 30,
   "id": "24c67fe3",
   "metadata": {},
   "outputs": [],
   "source": [
    "data['Married']=data['Married'].apply(lambda x: 1 if x==\"Yes\" else 0) \n",
    "data['Education']=data['Education'].apply(lambda x: 1 if x==\"Graduate\" else 0) \n",
    "data['Application_Status']=data['Application_Status'].apply(lambda x: 1 if x==\"Y\" else 0) \n",
    "data['Self_Employed']=data['Self_Employed'].apply(lambda x: 1 if x==\"Yes\" else 0)"
   ]
  },
  {
   "cell_type": "code",
   "execution_count": 31,
   "id": "4d575d00",
   "metadata": {},
   "outputs": [],
   "source": [
    "data=data.join(pd.get_dummies(df.Property_Area,prefix='property_area'))"
   ]
  },
  {
   "cell_type": "code",
   "execution_count": 32,
   "id": "c64cc587",
   "metadata": {},
   "outputs": [],
   "source": [
    "data=data.join(pd.get_dummies(df.Income,prefix='income'))"
   ]
  },
  {
   "cell_type": "code",
   "execution_count": 33,
   "id": "486714ca",
   "metadata": {},
   "outputs": [
    {
     "data": {
      "text/html": [
       "<div>\n",
       "<style scoped>\n",
       "    .dataframe tbody tr th:only-of-type {\n",
       "        vertical-align: middle;\n",
       "    }\n",
       "\n",
       "    .dataframe tbody tr th {\n",
       "        vertical-align: top;\n",
       "    }\n",
       "\n",
       "    .dataframe thead th {\n",
       "        text-align: right;\n",
       "    }\n",
       "</style>\n",
       "<table border=\"1\" class=\"dataframe\">\n",
       "  <thead>\n",
       "    <tr style=\"text-align: right;\">\n",
       "      <th></th>\n",
       "      <th>Gender</th>\n",
       "      <th>Married</th>\n",
       "      <th>Education</th>\n",
       "      <th>Self_Employed</th>\n",
       "      <th>Credit_History</th>\n",
       "      <th>Property_Area</th>\n",
       "      <th>Income</th>\n",
       "      <th>Application_Status</th>\n",
       "      <th>dependent</th>\n",
       "      <th>property_area_Rural</th>\n",
       "      <th>property_area_Semiurban</th>\n",
       "      <th>property_area_Urban</th>\n",
       "      <th>income_high</th>\n",
       "      <th>income_low</th>\n",
       "      <th>income_medium</th>\n",
       "    </tr>\n",
       "  </thead>\n",
       "  <tbody>\n",
       "    <tr>\n",
       "      <th>0</th>\n",
       "      <td>0</td>\n",
       "      <td>0</td>\n",
       "      <td>1</td>\n",
       "      <td>0</td>\n",
       "      <td>1</td>\n",
       "      <td>Urban</td>\n",
       "      <td>medium</td>\n",
       "      <td>1</td>\n",
       "      <td>0</td>\n",
       "      <td>0</td>\n",
       "      <td>0</td>\n",
       "      <td>1</td>\n",
       "      <td>0</td>\n",
       "      <td>0</td>\n",
       "      <td>1</td>\n",
       "    </tr>\n",
       "    <tr>\n",
       "      <th>1</th>\n",
       "      <td>0</td>\n",
       "      <td>1</td>\n",
       "      <td>1</td>\n",
       "      <td>0</td>\n",
       "      <td>1</td>\n",
       "      <td>Rural</td>\n",
       "      <td>medium</td>\n",
       "      <td>0</td>\n",
       "      <td>1</td>\n",
       "      <td>1</td>\n",
       "      <td>0</td>\n",
       "      <td>0</td>\n",
       "      <td>0</td>\n",
       "      <td>0</td>\n",
       "      <td>1</td>\n",
       "    </tr>\n",
       "    <tr>\n",
       "      <th>2</th>\n",
       "      <td>0</td>\n",
       "      <td>1</td>\n",
       "      <td>1</td>\n",
       "      <td>1</td>\n",
       "      <td>1</td>\n",
       "      <td>Urban</td>\n",
       "      <td>low</td>\n",
       "      <td>1</td>\n",
       "      <td>0</td>\n",
       "      <td>0</td>\n",
       "      <td>0</td>\n",
       "      <td>1</td>\n",
       "      <td>0</td>\n",
       "      <td>1</td>\n",
       "      <td>0</td>\n",
       "    </tr>\n",
       "    <tr>\n",
       "      <th>3</th>\n",
       "      <td>0</td>\n",
       "      <td>1</td>\n",
       "      <td>0</td>\n",
       "      <td>0</td>\n",
       "      <td>1</td>\n",
       "      <td>Urban</td>\n",
       "      <td>low</td>\n",
       "      <td>1</td>\n",
       "      <td>0</td>\n",
       "      <td>0</td>\n",
       "      <td>0</td>\n",
       "      <td>1</td>\n",
       "      <td>0</td>\n",
       "      <td>1</td>\n",
       "      <td>0</td>\n",
       "    </tr>\n",
       "    <tr>\n",
       "      <th>4</th>\n",
       "      <td>0</td>\n",
       "      <td>0</td>\n",
       "      <td>1</td>\n",
       "      <td>0</td>\n",
       "      <td>1</td>\n",
       "      <td>Urban</td>\n",
       "      <td>medium</td>\n",
       "      <td>1</td>\n",
       "      <td>0</td>\n",
       "      <td>0</td>\n",
       "      <td>0</td>\n",
       "      <td>1</td>\n",
       "      <td>0</td>\n",
       "      <td>0</td>\n",
       "      <td>1</td>\n",
       "    </tr>\n",
       "  </tbody>\n",
       "</table>\n",
       "</div>"
      ],
      "text/plain": [
       "   Gender  Married  Education  Self_Employed  Credit_History Property_Area  \\\n",
       "0       0        0          1              0               1         Urban   \n",
       "1       0        1          1              0               1         Rural   \n",
       "2       0        1          1              1               1         Urban   \n",
       "3       0        1          0              0               1         Urban   \n",
       "4       0        0          1              0               1         Urban   \n",
       "\n",
       "   Income  Application_Status  dependent  property_area_Rural  \\\n",
       "0  medium                   1          0                    0   \n",
       "1  medium                   0          1                    1   \n",
       "2     low                   1          0                    0   \n",
       "3     low                   1          0                    0   \n",
       "4  medium                   1          0                    0   \n",
       "\n",
       "   property_area_Semiurban  property_area_Urban  income_high  income_low  \\\n",
       "0                        0                    1            0           0   \n",
       "1                        0                    0            0           0   \n",
       "2                        0                    1            0           1   \n",
       "3                        0                    1            0           1   \n",
       "4                        0                    1            0           0   \n",
       "\n",
       "   income_medium  \n",
       "0              1  \n",
       "1              1  \n",
       "2              0  \n",
       "3              0  \n",
       "4              1  "
      ]
     },
     "execution_count": 33,
     "metadata": {},
     "output_type": "execute_result"
    }
   ],
   "source": [
    "data.head()"
   ]
  },
  {
   "cell_type": "code",
   "execution_count": 34,
   "id": "429eb646",
   "metadata": {},
   "outputs": [],
   "source": [
    "data=data.drop(columns=['Property_Area','Income'])"
   ]
  },
  {
   "cell_type": "code",
   "execution_count": 35,
   "id": "00854f6f",
   "metadata": {},
   "outputs": [],
   "source": [
    "\n",
    "from sklearn.model_selection import train_test_split\n",
    "X= data.drop(columns=['Application_Status'])\n",
    "Y= data['Application_Status']\n",
    "\n",
    "X_train, X_test, y_train, y_test = train_test_split(X, Y, test_size=0.30, random_state=42, stratify=data['Application_Status'])"
   ]
  },
  {
   "cell_type": "code",
   "execution_count": 36,
   "id": "e052ad85",
   "metadata": {},
   "outputs": [],
   "source": [
    "from sklearn.tree import DecisionTreeClassifier\n",
    "from sklearn.ensemble import RandomForestClassifier\n",
    "from sklearn.neighbors import KNeighborsClassifier\n",
    "from sklearn.svm import SVC\n",
    "from sklearn.linear_model import LogisticRegression\n",
    "from sklearn.metrics import accuracy_score"
   ]
  },
  {
   "cell_type": "code",
   "execution_count": 37,
   "id": "d08b3c0f",
   "metadata": {},
   "outputs": [
    {
     "name": "stdout",
     "output_type": "stream",
     "text": [
      "The accuracy of model DecisionTreeClassifier is 76.62\n",
      "\n",
      "\n",
      "The accuracy of model RandomForestClassifier is 76.62\n",
      "\n",
      "\n",
      "The accuracy of model KNeighborsClassifier is 78.57\n",
      "\n",
      "\n",
      "The accuracy of model SVC is 84.42\n",
      "\n",
      "\n",
      "The accuracy of model LogisticRegression is 83.12\n",
      "\n",
      "\n",
      "Highest accuracy has been obtained using model SVC, accuracy:84.42%.\n"
     ]
    }
   ],
   "source": [
    "tree= DecisionTreeClassifier(random_state=24) \n",
    "forest= RandomForestClassifier(random_state=24)\n",
    "knn= KNeighborsClassifier()\n",
    "svm= SVC(random_state=24)\n",
    "lr = LogisticRegression(random_state=24)\n",
    "\n",
    "\n",
    "models= [tree, forest, knn, svm,lr]\n",
    "acc=[]\n",
    "max_acc=0\n",
    "\n",
    "for model in models:\n",
    "    model.fit(X_train, y_train) \n",
    "    y_pred= model.predict(X_test) \n",
    "    accuracy= accuracy_score(y_test, y_pred) \n",
    "     \n",
    "    print(f\"The accuracy of model {type(model).__name__} is {accuracy*100:.2f}\")\n",
    "\n",
    "    if(accuracy>max_acc):\n",
    "      model_name=type(model).__name__\n",
    "      max_acc=accuracy\n",
    "      best_model=model\n",
    "\n",
    "    \n",
    "    print(\"\\n\")\n",
    "\n",
    "print(f\"Highest accuracy has been obtained using model {model_name}, accuracy:{max_acc*100:.2f}%.\")"
   ]
  },
  {
   "cell_type": "code",
   "execution_count": 38,
   "id": "752e8fb5",
   "metadata": {},
   "outputs": [],
   "source": [
    "def take_inputs():\n",
    "  x_pred=[]\n",
    "  print(\"Gender: if Male enter 0, if Female enter 1\")\n",
    "  gender=int(input())\n",
    "  x_pred.append(gender)\n",
    "\n",
    "  print(\"Married: Yes: 1 No:0\")\n",
    "  married=int(input())\n",
    "  x_pred.append(married)\n",
    "\n",
    "  print(\"Education: graduated: 1 Not graduated:0\")\n",
    "  edu=int(input())\n",
    "  x_pred.append(edu)\n",
    "\n",
    "  print(\"Selfemployed? Yes 1, no 0\")\n",
    "  self_employed=int(input())\n",
    "  x_pred.append(self_employed)\n",
    "\n",
    "  print(\"Credit History? Yes 1, No 0\")\n",
    "  credit_history=int(input())\n",
    "  x_pred.append(credit_history)\n",
    "\n",
    "  print(\"dependent?, if 0: enter 0, if 1: enter 1, if 2: enter 2, if 3+:enter 3\")\n",
    "  dependent=int(input())\n",
    "  x_pred.append(dependent)\n",
    "\n",
    "  print(\"property area type: 1: rural, 2: semi urban, 3: urban\")\n",
    "  area=int(input())\n",
    "\n",
    "  if(area ==1):\n",
    "    x_pred=x_pred+[1,0,0]\n",
    "\n",
    "  elif(area==2):\n",
    "    x_pred=x_pred+[0,1,0]\n",
    "\n",
    "  elif(area==3):\n",
    "    x_pred=x_pred+[0,0,1]\n",
    "  \n",
    "  print(\"income type: 1: high, 2:low, 3: medium\")\n",
    "  income=int(input())  \n",
    "  if(income==1):\n",
    "    x_pred=x_pred+[1,0,0]\n",
    "\n",
    "  elif(income==2):\n",
    "    x_pred=x_pred+[0,1,0]\n",
    "  elif(income==3):\n",
    "    x_pred=x_pred+[0,0,1]\n",
    "\n",
    "  return x_pred"
   ]
  },
  {
   "cell_type": "code",
   "execution_count": 39,
   "id": "18798522",
   "metadata": {},
   "outputs": [],
   "source": [
    "def loan_application_status():\n",
    "  x_pred=take_inputs()\n",
    "  y_pred=best_model.predict([x_pred])[0]\n",
    "  print(\"******************************************\")\n",
    "  if(y_pred==0):\n",
    "    print(\"loan application will be rejected\")\n",
    "  else:\n",
    "    print(\"loan application will be approved\")\n",
    "  \n",
    "  print(\"******************************************\")"
   ]
  },
  {
   "cell_type": "code",
   "execution_count": 40,
   "id": "33b8488c",
   "metadata": {},
   "outputs": [
    {
     "name": "stdout",
     "output_type": "stream",
     "text": [
      "Gender: if Male enter 0, if Female enter 1\n",
      "1\n",
      "Married: Yes: 1 No:0\n",
      "1\n",
      "Education: graduated: 1 Not graduated:0\n",
      "1\n",
      "Selfemployed? Yes 1, no 0\n",
      "1\n",
      "Credit History? Yes 1, No 0\n",
      "1\n",
      "dependent?, if 0: enter 0, if 1: enter 1, if 2: enter 2, if 3+:enter 3\n",
      "1\n",
      "property area type: 1: rural, 2: semi urban, 3: urban\n",
      "1\n",
      "income type: 1: high, 2:low, 3: medium\n",
      "1\n",
      "******************************************\n",
      "loan application will be approved\n",
      "******************************************\n"
     ]
    },
    {
     "name": "stderr",
     "output_type": "stream",
     "text": [
      "C:\\Users\\91840\\anaconda3\\envs\\open_cv\\lib\\site-packages\\sklearn\\base.py:451: UserWarning: X does not have valid feature names, but SVC was fitted with feature names\n",
      "  \"X does not have valid feature names, but\"\n"
     ]
    }
   ],
   "source": [
    "loan_application_status()"
   ]
  },
  {
   "cell_type": "code",
   "execution_count": null,
   "id": "8330e43c",
   "metadata": {},
   "outputs": [],
   "source": []
  }
 ],
 "metadata": {
  "kernelspec": {
   "display_name": "Python 3 (ipykernel)",
   "language": "python",
   "name": "python3"
  },
  "language_info": {
   "codemirror_mode": {
    "name": "ipython",
    "version": 3
   },
   "file_extension": ".py",
   "mimetype": "text/x-python",
   "name": "python",
   "nbconvert_exporter": "python",
   "pygments_lexer": "ipython3",
   "version": "3.7.11"
  }
 },
 "nbformat": 4,
 "nbformat_minor": 5
}
